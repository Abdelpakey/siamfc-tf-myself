{
 "cells": [
  {
   "cell_type": "code",
   "execution_count": null,
   "metadata": {},
   "outputs": [],
   "source": [
    "import tensorflow as tf\n",
    "\n",
    "def set_convolutional(X, W, b, stride, bn_beta, bn_gamma, bn_mm, bn_mv, filtergroup=False, batchnorm=True,\n",
    "                      activation=True, scope=None, reuse=False):\n",
    "    # use the input scope or default to \"conv\"\n",
    "    with tf.variable_scope(scope or 'conv', reuse=reuse):\n",
    "        # sanity check    \n",
    "        W = tf.get_variable(\"W\", W.shape, trainable=False, initializer=tf.constant_initializer(W))\n",
    "        b = tf.get_variable(\"b\", b.shape, trainable=False, initializer=tf.constant_initializer(b))\n",
    "\n",
    "        if filtergroup:\n",
    "            X0, X1 = tf.split(X, 2, 3)\n",
    "            W0, W1 = tf.split(W, 2, 3)\n",
    "            h0 = tf.nn.conv2d(X0, W0, strides=[1, stride, stride, 1], padding='VALID')\n",
    "            h1 = tf.nn.conv2d(X1, W1, strides=[1, stride, stride, 1], padding='VALID')\n",
    "            h = tf.concat([h0, h1], 3) + b\n",
    "        else:\n",
    "            #stride指卷积的步长\n",
    "            h = tf.nn.conv2d(X, W, strides=[1, stride, stride, 1], padding='VALID') + b\n",
    "\n",
    "        if batchnorm:\n",
    "            #def batch_normalization(input, mean, variance, offset, scale, variance_epsilon, name=None)：\n",
    "            h = tf.layers.batch_normalization(h, beta_initializer=tf.constant_initializer(bn_beta),\n",
    "                                              gamma_initializer=tf.constant_initializer(bn_gamma),\n",
    "                                              moving_mean_initializer=tf.constant_initializer(bn_mm),\n",
    "                                              moving_variance_initializer=tf.constant_initializer(bn_mv),\n",
    "                                              training=False, trainable=False)\n",
    "\n",
    "        if activation:\n",
    "            h = tf.nn.relu(h)\n",
    "\n",
    "        return h"
   ]
  }
 ],
 "metadata": {
  "kernelspec": {
   "display_name": "Python 3",
   "language": "python",
   "name": "python3"
  },
  "language_info": {
   "codemirror_mode": {
    "name": "ipython",
    "version": 3
   },
   "file_extension": ".py",
   "mimetype": "text/x-python",
   "name": "python",
   "nbconvert_exporter": "python",
   "pygments_lexer": "ipython3",
   "version": "3.5.2"
  }
 },
 "nbformat": 4,
 "nbformat_minor": 2
}
