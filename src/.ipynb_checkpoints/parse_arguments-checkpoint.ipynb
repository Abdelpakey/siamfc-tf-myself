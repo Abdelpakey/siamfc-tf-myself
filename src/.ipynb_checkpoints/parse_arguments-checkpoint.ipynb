{
 "cells": [
  {
   "cell_type": "code",
   "execution_count": 1,
   "metadata": {},
   "outputs": [],
   "source": [
    "import json\n",
    "from collections import namedtuple\n",
    "\n",
    "def parse_arguments(in_hp={},in_evaluation={},in_run={}):\n",
    "    \n",
    "    with open('parameters/hyperparams.json') as json_file:\n",
    "        #将编码的json字符串解析成python对象\n",
    "        hp=json.load(json_file)\n",
    "    with open('parameters/evaluation.json') as json_file:\n",
    "        evaluation=json.load(json_file)\n",
    "    with open('parameters/run.json') as json_file:\n",
    "        run=json.load(json_file)\n",
    "    with open('parameters/environment.json') as json_file:\n",
    "        env=json.load(json_file)\n",
    "    with open('parameters/design.json') as json_file:\n",
    "        design=json.load(json_file)\n",
    "    \n",
    "    #iteritems是list中的迭代器？\n",
    "    #for name,value in in_hp.iteritems():\n",
    "     #   hp[name]=value\n",
    "    #for name,value in in_evaluation.iteritems():\n",
    "     #   evaluation[name]=value\n",
    "    #for name,value in in_run.iteritems():\n",
    "     #   run[name]=value\n",
    "    \n",
    "    #**代表map\n",
    "    hp=namedtuple('hp',hp.keys())(**hp)\n",
    "    evaluation=namedtuple('evaluation',evaluation.keys())(**evaluation)\n",
    "    run=namedtuple('run',run.keys())(**run)\n",
    "    env=namedtuple('env',env.keys())(**env)\n",
    "    design=namedtuple('design',design.keys())(**design)\n",
    "    print('end')\n",
    "    \n",
    "    return hp,evaluation,run,env,design"
   ]
  },
  {
   "cell_type": "code",
   "execution_count": null,
   "metadata": {},
   "outputs": [],
   "source": []
  },
  {
   "cell_type": "code",
   "execution_count": null,
   "metadata": {},
   "outputs": [],
   "source": []
  }
 ],
 "metadata": {
  "kernelspec": {
   "display_name": "Python 3",
   "language": "python",
   "name": "python3"
  },
  "language_info": {
   "codemirror_mode": {
    "name": "ipython",
    "version": 3
   },
   "file_extension": ".py",
   "mimetype": "text/x-python",
   "name": "python",
   "nbconvert_exporter": "python",
   "pygments_lexer": "ipython3",
   "version": "3.5.2"
  }
 },
 "nbformat": 4,
 "nbformat_minor": 2
}
