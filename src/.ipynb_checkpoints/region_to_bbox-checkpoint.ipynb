{
 "cells": [
  {
   "cell_type": "code",
   "execution_count": 1,
   "metadata": {},
   "outputs": [],
   "source": [
    "import numpy as np\n"
   ]
  },
  {
   "cell_type": "code",
   "execution_count": null,
   "metadata": {},
   "outputs": [],
   "source": [
    "def region_to_bbox(region,center=True):\n",
    "    \n",
    "    n=len(region)\n",
    "    assert n==4 or n==8,('GT region format is invalid,should have 4 or 8 entries.')\n",
    "    \n",
    "    if n==4:\n",
    "        return _rect(region,center)\n",
    "    else:\n",
    "        return _poly(region,center)\n",
    "    \n",
    "    \n",
    "#we assume the groundtruth bounding boxes are saved with 0-indexing\n",
    "def _rect(region,center):\n",
    "    \n",
    "    if center:\n",
    "        x=region[0]\n",
    "        y=region[1]\n",
    "        w=region[2]\n",
    "        h=region[3]\n",
    "        cx=x+w/2\n",
    "        cy=y+h/2\n",
    "        #cx,cy:center?\n",
    "        return cx,cy,w,h\n",
    "    else:\n",
    "        #region[0]=-1\n",
    "        #region[1]=-1\n",
    "        return region\n",
    "    \n",
    "def _poly(region,center):\n",
    "    cx=np.mean(region[::2])\n",
    "    cy=np.mean(region[1::2])\n",
    "    x1=np.min(region[::2])\n",
    "    x2=np.max(region[::2])\n",
    "    y1=np.min(region[1::2])\n",
    "    y2=np.max(region[1::2])\n",
    "    A1=np.linalg.norm(region[0:2]-region[2:4])*np.linalg.norm(region[2:4]-region[4:6])"
   ]
  }
 ],
 "metadata": {
  "kernelspec": {
   "display_name": "Python 3",
   "language": "python",
   "name": "python3"
  },
  "language_info": {
   "codemirror_mode": {
    "name": "ipython",
    "version": 3
   },
   "file_extension": ".py",
   "mimetype": "text/x-python",
   "name": "python",
   "nbconvert_exporter": "python",
   "pygments_lexer": "ipython3",
   "version": "3.5.2"
  }
 },
 "nbformat": 4,
 "nbformat_minor": 2
}
