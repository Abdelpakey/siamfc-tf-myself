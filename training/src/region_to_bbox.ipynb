{
 "cells": [
  {
   "cell_type": "code",
   "execution_count": 1,
   "metadata": {},
   "outputs": [],
   "source": [
    "import numpy as np\n",
    "\n",
    "def region_to_bbox(region,center=True):\n",
    "    \n",
    "    n=len(region)\n",
    "    assert n==4,('GT region format is invalid,should have 4 entries')\n",
    "    \n",
    "    if n==4:\n",
    "        return _rect(region,center)\n",
    "    \n",
    "#the groundtruth is saved as a rect(lx,ly,w,h)\n",
    "def _rect(region,center):\n",
    "    \n",
    "    if center:\n",
    "        x=region[0]\n",
    "        y=region[1]\n",
    "        w=region[2]\n",
    "        h=region[3]\n",
    "        cx=x+w/2\n",
    "        cy=y+h/2\n",
    "        \n",
    "        return cx,cy,w,h\n",
    "    #not center,return rect\n",
    "    else:\n",
    "        return region\n",
    "    "
   ]
  }
 ],
 "metadata": {
  "kernelspec": {
   "display_name": "Python 3",
   "language": "python",
   "name": "python3"
  },
  "language_info": {
   "codemirror_mode": {
    "name": "ipython",
    "version": 3
   },
   "file_extension": ".py",
   "mimetype": "text/x-python",
   "name": "python",
   "nbconvert_exporter": "python",
   "pygments_lexer": "ipython3",
   "version": "3.5.2"
  }
 },
 "nbformat": 4,
 "nbformat_minor": 2
}
