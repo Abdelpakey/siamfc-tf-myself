{
 "cells": [
  {
   "cell_type": "code",
   "execution_count": null,
   "metadata": {},
   "outputs": [],
   "source": [
    "import tensorflow as tf\n",
    "import os\n",
    "import numpy as np\n",
    "import time\n",
    "from PIL import Image\n",
    "import src.siamese as siam\n",
    "\n",
    "def train_siam_net(design,hp,frame_name_list,z_index,pos_x,pos_y,target_w,target_h,filename,siam_net_z,loss):\n",
    "    #-------------------------------------------------------------------------\n",
    "    #index_z:the index of template in the frame_name_list\n",
    "    #-------------------------------------------------------------------------\n",
    "    \n",
    "    #connect the context to get the size of x and z crops\n",
    "    t_sz=(target_w+target_h)*design.context_amount\n",
    "    w_crop_z=target_w+t_sz\n",
    "    h_crop_z=target_h+t_sz\n",
    "    sz_z=np.sqrt(w_crop*h_crop)\n",
    "    sz_x=size_x_src/size_z_src*sz_z\n",
    "    \n",
    "    with tf.Session() as sess:\n",
    "        tf.global_variables_initializer().run()\n",
    "        #Coordinate the loading of image files\n",
    "        coord=tf.train.Coordinator()\n",
    "        threads=tf.train.start_queue_runners(coord=coord)\n",
    "        \n",
    "        siam_net_z_ = sess.run([siam_net_z],feed_dict={\n",
    "                                                       siam.pos_x:pos_x,\n",
    "                                                       siam.pos_y:pos_y,\n",
    "                                                       siam.z_size:sz_z,\n",
    "                                                       filename:frame_name_list[index_z]})\n",
    "        \n",
    "        t_start=time.time()\n",
    "        \n",
    "        #train the image which is the pair of siam_net_z\n",
    "        siam_net_x_ = sess.run([loss],feed_dict={\n",
    "                                                 siam.pos_x:pos_x,\n",
    "                                                 siam.pos_y:pos_y,\n",
    "                                                 siam.x_size:sz_x,\n",
    "                                                 siam_net_z:_siam_net_z,\n",
    "                                                 filename:frame_name_list[index_z+1] })\n",
    "        \n",
    "        #train --back propagation\n",
    "        tf.train.AdamOptimizer(hp.learning_rate).minimize(loss)\n",
    "        \n",
    "        \n",
    "        \n",
    "    "
   ]
  }
 ],
 "metadata": {
  "kernelspec": {
   "display_name": "Python 3",
   "language": "python",
   "name": "python3"
  },
  "language_info": {
   "codemirror_mode": {
    "name": "ipython",
    "version": 3
   },
   "file_extension": ".py",
   "mimetype": "text/x-python",
   "name": "python",
   "nbconvert_exporter": "python",
   "pygments_lexer": "ipython3",
   "version": "3.5.2"
  }
 },
 "nbformat": 4,
 "nbformat_minor": 2
}
