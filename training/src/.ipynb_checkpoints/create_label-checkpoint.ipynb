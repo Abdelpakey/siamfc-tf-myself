{
 "cells": [
  {
   "cell_type": "code",
   "execution_count": 1,
   "metadata": {},
   "outputs": [],
   "source": [
    "import numpy as np\n",
    "import math\n",
    "\n",
    "#LabelMapSize:w*h(w=h)\n",
    "def create_label(LabelMapSize,dPos):\n",
    "    #use the \"balance\" method(Postive and Negative each half 0.5)\n",
    "    logloss_label=create_logisticloss_label(LabelMapSize,dPos)\n",
    "    #label with weight normalization\n",
    "    label_weight=np.ones(logloss_label.shape)\n",
    "    #count the sum of Positive labels\n",
    "    Psum=np.sum(logloss_label==1)\n",
    "    #count the sum of Negative labels\n",
    "    Nsum=np.sum(logloss_label==-1)\n",
    "    \n",
    "    l_sz=LabelMapSize[0]\n",
    "    \n",
    "    weight_p=1/Psum*0.5\n",
    "    weight_n=1/Nsum*0.5\n",
    "    \n",
    "    for i in range(0,l_sz):\n",
    "        for j in range(0,l_sz):\n",
    "            if(logloss_label[i][j]==1):\n",
    "                label_weight[i][j]=weight_p\n",
    "            elif(logloss_label[i][j]==-1):\n",
    "                label_weight[i][j]=weight_n\n",
    "        \n",
    "    return label_weight\n",
    "    "
   ]
  },
  {
   "cell_type": "code",
   "execution_count": 2,
   "metadata": {},
   "outputs": [],
   "source": [
    "def create_logisticloss_label(LabelMapSize,dPos):\n",
    "    l_sz=LabelMapSize[0]\n",
    "    #math.ceil()向上取整\n",
    "    #round():四舍五入取整\n",
    "    pos_x,pos_y=int(l_sz/2),int(l_sz/2)\n",
    "    logloss_label=np.zeros([l_sz,l_sz])\n",
    "    \n",
    "    for i in range(0,l_sz):\n",
    "        for j in range(0,l_sz):\n",
    "            dist=(pos_x-i)**2+(pos_y-j)**2\n",
    "            if dist<=dPos:\n",
    "                logloss_label[i][j]=1\n",
    "            else:\n",
    "                logloss_label[i][j]=-1\n",
    "                \n",
    "    return logloss_label"
   ]
  },
  {
   "cell_type": "code",
   "execution_count": 3,
   "metadata": {},
   "outputs": [
    {
     "name": "stdout",
     "output_type": "stream",
     "text": [
      "(8, 8)\n",
      "[[-1. -1. -1. -1. -1. -1. -1. -1.]\n",
      " [-1. -1. -1. -1. -1. -1. -1. -1.]\n",
      " [-1. -1. -1. -1. -1. -1. -1. -1.]\n",
      " [-1. -1. -1.  1.  1.  1. -1. -1.]\n",
      " [-1. -1. -1.  1.  1.  1. -1. -1.]\n",
      " [-1. -1. -1.  1.  1.  1. -1. -1.]\n",
      " [-1. -1. -1. -1. -1. -1. -1. -1.]\n",
      " [-1. -1. -1. -1. -1. -1. -1. -1.]]\n",
      "[[ 0.00909091  0.00909091  0.00909091  0.00909091  0.00909091  0.00909091\n",
      "   0.00909091  0.00909091]\n",
      " [ 0.00909091  0.00909091  0.00909091  0.00909091  0.00909091  0.00909091\n",
      "   0.00909091  0.00909091]\n",
      " [ 0.00909091  0.00909091  0.00909091  0.00909091  0.00909091  0.00909091\n",
      "   0.00909091  0.00909091]\n",
      " [ 0.00909091  0.00909091  0.00909091  0.05555556  0.05555556  0.05555556\n",
      "   0.00909091  0.00909091]\n",
      " [ 0.00909091  0.00909091  0.00909091  0.05555556  0.05555556  0.05555556\n",
      "   0.00909091  0.00909091]\n",
      " [ 0.00909091  0.00909091  0.00909091  0.05555556  0.05555556  0.05555556\n",
      "   0.00909091  0.00909091]\n",
      " [ 0.00909091  0.00909091  0.00909091  0.00909091  0.00909091  0.00909091\n",
      "   0.00909091  0.00909091]\n",
      " [ 0.00909091  0.00909091  0.00909091  0.00909091  0.00909091  0.00909091\n",
      "   0.00909091  0.00909091]]\n"
     ]
    }
   ],
   "source": [
    "label_weight=create_label([8,8],2)\n",
    "print(label_weight)"
   ]
  }
 ],
 "metadata": {
  "kernelspec": {
   "display_name": "Python 3",
   "language": "python",
   "name": "python3"
  },
  "language_info": {
   "codemirror_mode": {
    "name": "ipython",
    "version": 3
   },
   "file_extension": ".py",
   "mimetype": "text/x-python",
   "name": "python",
   "nbconvert_exporter": "python",
   "pygments_lexer": "ipython3",
   "version": "3.5.2"
  }
 },
 "nbformat": 4,
 "nbformat_minor": 2
}
